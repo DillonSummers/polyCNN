{
 "cells": [
  {
   "cell_type": "code",
   "execution_count": null,
   "id": "13de171c",
   "metadata": {},
   "outputs": [],
   "source": [
    "# %% [python]\n",
    "# Display monomer_distribution.png\n",
    "\n",
    "from PIL import Image\n",
    "import matplotlib.pyplot as plt\n",
    "\n",
    "# If running in Jupyter/VS Code Notebook, enable inline plotting:\n",
    "%matplotlib inline\n",
    "\n",
    "# Path to your image (adjust if it lives in a subfolder)\n",
    "img_path = 'monomer_distribution.png'\n",
    "\n",
    "# Load and show\n",
    "img = Image.open(img_path)\n",
    "plt.figure(figsize=(8, 6))\n",
    "plt.imshow(img)\n",
    "plt.axis('off')   # hide axes\n",
    "plt.show()\n"
   ]
  }
 ],
 "metadata": {
  "language_info": {
   "name": "python"
  }
 },
 "nbformat": 4,
 "nbformat_minor": 5
}
